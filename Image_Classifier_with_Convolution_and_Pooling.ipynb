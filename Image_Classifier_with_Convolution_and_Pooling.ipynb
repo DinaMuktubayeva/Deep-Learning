{
  "nbformat": 4,
  "nbformat_minor": 0,
  "metadata": {
    "colab": {
      "name": "Image Classifier with Convolution and Pooling.ipynb",
      "provenance": [],
      "authorship_tag": "ABX9TyOgH8lmOkQwBShMGPrzIJw6",
      "include_colab_link": true
    },
    "kernelspec": {
      "name": "python3",
      "display_name": "Python 3"
    },
    "accelerator": "GPU"
  },
  "cells": [
    {
      "cell_type": "markdown",
      "metadata": {
        "id": "view-in-github",
        "colab_type": "text"
      },
      "source": [
        "<a href=\"https://colab.research.google.com/github/DinaMuktubayeva/Deep-Learning/blob/main/Image_Classifier_with_Convolution_and_Pooling.ipynb\" target=\"_parent\"><img src=\"https://colab.research.google.com/assets/colab-badge.svg\" alt=\"Open In Colab\"/></a>"
      ]
    },
    {
      "cell_type": "markdown",
      "metadata": {
        "id": "oXdIryiBijaP"
      },
      "source": [
        "#Importing TensorFlow"
      ]
    },
    {
      "cell_type": "code",
      "metadata": {
        "id": "UL5NGz4WiKYp"
      },
      "source": [
        "import tensorflow as tf"
      ],
      "execution_count": null,
      "outputs": []
    },
    {
      "cell_type": "markdown",
      "metadata": {
        "id": "hT5I7-Mkint5"
      },
      "source": [
        "# Loading the Fashion MNIST dataset\n",
        "\n",
        "The convolutional layer expects a single tensor. In our case, this is a 4D list of 60,000 28x28 images for training."
      ]
    },
    {
      "cell_type": "code",
      "metadata": {
        "id": "Xs7GcjyKifl9"
      },
      "source": [
        "mnist = tf.keras.datasets.fashion_mnist\n",
        "(training_images, training_labels), (test_images, test_labels) = mnist.load_data()\n",
        "\n",
        "training_images = training_images.reshape(60000, 28, 28, 1)\n",
        "training_images = training_images / 255.0\n",
        "\n",
        "test_images = test_images.reshape(10000, 28, 28, 1)\n",
        "test_images = test_images/255.0"
      ],
      "execution_count": null,
      "outputs": []
    },
    {
      "cell_type": "markdown",
      "metadata": {
        "id": "yNznWP6Eirmi"
      },
      "source": [
        "#Creating a model with convolutional layers\n",
        "\n",
        "There are 2 convolution layers with the size of convolution of 3x3. The input shape corresponds to the shape of a single input image.\n",
        "\n",
        "The are 2 pooling layers; each one compresses the image by 25%.\n",
        "\n",
        "The activation function relu returns x only if x>0\n",
        "\n",
        "Training stops when 98% accuracy is achieved"
      ]
    },
    {
      "cell_type": "code",
      "metadata": {
        "id": "yOpPmTFhia69",
        "colab": {
          "base_uri": "https://localhost:8080/"
        },
        "outputId": "3e8573ac-6de1-426e-a7f5-d73099876903"
      },
      "source": [
        "model = tf.keras.models.Sequential([\n",
        "  tf.keras.layers.Conv2D(64, (3,3), activation='relu', input_shape=(28, 28, 1)),\n",
        "  tf.keras.layers.MaxPooling2D(2, 2),\n",
        "  tf.keras.layers.Conv2D(64, (3,3), activation='relu'),\n",
        "  tf.keras.layers.MaxPooling2D(2,2),\n",
        "  tf.keras.layers.Flatten(),\n",
        "  tf.keras.layers.Dense(128, activation='relu'),\n",
        "  tf.keras.layers.Dense(10, activation='softmax')\n",
        "])\n",
        "\n",
        "# Defining a callback to stop when acc = 98%\n",
        "class myCallback(tf.keras.callbacks.Callback):        \n",
        "  def on_epoch_end(self, epoch, logs={}):\n",
        "    if (logs.get('accuracy') >= 0.98):\n",
        "      print(\"\\nReached 98% accuracy so cancelling training!\")\n",
        "      self.model.stop_training = True\n",
        "\n",
        "callbacks = myCallback()\n",
        "\n",
        "model.compile(optimizer='adam', loss='sparse_categorical_crossentropy', metrics=['accuracy'])\n",
        "model.fit(training_images, training_labels, epochs=20, callbacks=[callbacks])\n",
        "\n",
        "test_loss = model.evaluate(test_images, test_labels)"
      ],
      "execution_count": null,
      "outputs": [
        {
          "output_type": "stream",
          "text": [
            "Epoch 1/20\n",
            "1875/1875 [==============================] - 4s 2ms/step - loss: 0.4394 - accuracy: 0.8386\n",
            "Epoch 2/20\n",
            "1875/1875 [==============================] - 4s 2ms/step - loss: 0.2925 - accuracy: 0.8924\n",
            "Epoch 3/20\n",
            "1875/1875 [==============================] - 4s 2ms/step - loss: 0.2475 - accuracy: 0.9082\n",
            "Epoch 4/20\n",
            "1875/1875 [==============================] - 4s 2ms/step - loss: 0.2154 - accuracy: 0.9205\n",
            "Epoch 5/20\n",
            "1875/1875 [==============================] - 4s 2ms/step - loss: 0.1871 - accuracy: 0.9304\n",
            "Epoch 6/20\n",
            "1875/1875 [==============================] - 4s 2ms/step - loss: 0.1633 - accuracy: 0.9391\n",
            "Epoch 7/20\n",
            "1875/1875 [==============================] - 4s 2ms/step - loss: 0.1434 - accuracy: 0.9461\n",
            "Epoch 8/20\n",
            "1875/1875 [==============================] - 4s 2ms/step - loss: 0.1236 - accuracy: 0.9538\n",
            "Epoch 9/20\n",
            "1875/1875 [==============================] - 4s 2ms/step - loss: 0.1089 - accuracy: 0.9595\n",
            "Epoch 10/20\n",
            "1875/1875 [==============================] - 4s 2ms/step - loss: 0.0979 - accuracy: 0.9629\n",
            "Epoch 11/20\n",
            "1875/1875 [==============================] - 4s 2ms/step - loss: 0.0846 - accuracy: 0.9681\n",
            "Epoch 12/20\n",
            "1875/1875 [==============================] - 4s 2ms/step - loss: 0.0772 - accuracy: 0.9707\n",
            "Epoch 13/20\n",
            "1875/1875 [==============================] - 4s 2ms/step - loss: 0.0648 - accuracy: 0.9757\n",
            "Epoch 14/20\n",
            "1875/1875 [==============================] - 4s 2ms/step - loss: 0.0599 - accuracy: 0.9771\n",
            "Epoch 15/20\n",
            "1874/1875 [============================>.] - ETA: 0s - loss: 0.0515 - accuracy: 0.9804\n",
            "Reached 98% accuracy so cancelling training!\n",
            "1875/1875 [==============================] - 4s 2ms/step - loss: 0.0515 - accuracy: 0.9804\n",
            "313/313 [==============================] - 1s 2ms/step - loss: 0.4470 - accuracy: 0.9065\n"
          ],
          "name": "stdout"
        }
      ]
    },
    {
      "cell_type": "code",
      "metadata": {
        "id": "yJWEw8NjiuVk"
      },
      "source": [
        "model.summary()"
      ],
      "execution_count": null,
      "outputs": []
    },
    {
      "cell_type": "markdown",
      "metadata": {
        "id": "_43Ykrnvlgcj"
      },
      "source": [
        "# Visualisation\n",
        "\n",
        "Here the data is visualised to demonstrate how convolution and pooling reduce the amount of information feeded to neural networks in order to increase the model's efficiency"
      ]
    },
    {
      "cell_type": "markdown",
      "metadata": {
        "id": "I54RwXt0lmk-"
      },
      "source": [
        "The first 100 labels in the dataset"
      ]
    },
    {
      "cell_type": "code",
      "metadata": {
        "id": "N3ll_4tRlfrz"
      },
      "source": [
        "print(test_labels[:100])"
      ],
      "execution_count": null,
      "outputs": []
    },
    {
      "cell_type": "markdown",
      "metadata": {
        "id": "yWkWHEq6mbxW"
      },
      "source": [
        "This will output three images after each of the convolution/pooling layers"
      ]
    },
    {
      "cell_type": "code",
      "metadata": {
        "id": "ohGshalTlvLy"
      },
      "source": [
        "import matplotlib.pyplot as plt\n",
        "\n",
        "f, axarr = plt.subplots(3,4)\n",
        "FIRST_IMAGE=0\n",
        "SECOND_IMAGE=7\n",
        "THIRD_IMAGE=26\n",
        "CONVOLUTION_NUMBER = 1\n",
        "\n",
        "from tensorflow.keras import models\n",
        "\n",
        "layer_outputs = [layer.output for layer in model.layers]\n",
        "activation_model = tf.keras.models.Model(inputs = model.input, outputs = layer_outputs)\n",
        "\n",
        "for x in range(0,4):\n",
        "  f1 = activation_model.predict(test_images[FIRST_IMAGE].reshape(1, 28, 28, 1))[x]\n",
        "  axarr[0,x].imshow(f1[0, : , :, CONVOLUTION_NUMBER], cmap='inferno')\n",
        "  axarr[0,x].grid(False)\n",
        "  f2 = activation_model.predict(test_images[SECOND_IMAGE].reshape(1, 28, 28, 1))[x]\n",
        "  axarr[1,x].imshow(f2[0, : , :, CONVOLUTION_NUMBER], cmap='inferno')\n",
        "  axarr[1,x].grid(False)\n",
        "  f3 = activation_model.predict(test_images[THIRD_IMAGE].reshape(1, 28, 28, 1))[x]\n",
        "  axarr[2,x].imshow(f3[0, : , :, CONVOLUTION_NUMBER], cmap='inferno')\n",
        "  axarr[2,x].grid(False)"
      ],
      "execution_count": null,
      "outputs": []
    }
  ]
}