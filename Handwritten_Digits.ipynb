{
  "nbformat": 4,
  "nbformat_minor": 0,
  "metadata": {
    "colab": {
      "name": "Handwritten Digits.ipynb",
      "provenance": [],
      "collapsed_sections": [],
      "authorship_tag": "ABX9TyOalBV3JNNbv7PbrEMdzpFU",
      "include_colab_link": true
    },
    "kernelspec": {
      "name": "python3",
      "display_name": "Python 3"
    }
  },
  "cells": [
    {
      "cell_type": "markdown",
      "metadata": {
        "id": "view-in-github",
        "colab_type": "text"
      },
      "source": [
        "<a href=\"https://colab.research.google.com/github/DinaMuktubayeva/Deep-Learning/blob/main/Handwritten_Digits.ipynb\" target=\"_parent\"><img src=\"https://colab.research.google.com/assets/colab-badge.svg\" alt=\"Open In Colab\"/></a>"
      ]
    },
    {
      "cell_type": "code",
      "metadata": {
        "id": "N-5_kpH6VOcj"
      },
      "source": [
        "import tensorflow as tf\n",
        "\n",
        "def train_mnist():\n",
        "\n",
        "    # Defining a callback\n",
        "    class myCallback(tf.keras.callbacks.Callback):        \n",
        "        def on_epoch_end(self, epoch, logs={}):\n",
        "            if (logs.get('acc') > 0.99):\n",
        "                print(\"\\nReached 99% accuracy so cancelling training!\")\n",
        "                self.model.stop_training = True\n",
        "\n",
        "    callbacks = myCallback();\n",
        "\n",
        "    # Loading MNIST\n",
        "    mnist = tf.keras.datasets.mnist\n",
        "\n",
        "    # Loading test and train data\n",
        "    (x_train, y_train),(x_test, y_test) = mnist.load_data()\n",
        "    # Normalizing the images\n",
        "    x_train, x_test = x_train / 255.0, x_test / 255.0\n",
        "\n",
        "    # Defining the model\n",
        "    model = tf.keras.models.Sequential([\n",
        "        tf.keras.layers.Flatten(input_shape=(28,28)),\n",
        "        tf.keras.layers.Dense(512, activation=tf.nn.relu),\n",
        "        tf.keras.layers.Dense(10, activation=tf.nn.softmax)\n",
        "    ])\n",
        "\n",
        "    # Compiling the model\n",
        "    model.compile(optimizer='adam',\n",
        "                  loss='sparse_categorical_crossentropy',\n",
        "                  metrics=['accuracy'])\n",
        "    \n",
        "    # model fitting\n",
        "    history = model.fit(x_train, y_train, epochs=10, callbacks=[callbacks])\n",
        "    # model fitting\n",
        "    return history.epoch, history.history['acc'][-1]"
      ],
      "execution_count": null,
      "outputs": []
    },
    {
      "cell_type": "code",
      "metadata": {
        "id": "HGimf4tYVjF6"
      },
      "source": [
        "train_mnist()"
      ],
      "execution_count": null,
      "outputs": []
    }
  ]
}